{
 "cells": [
  {
   "cell_type": "code",
   "execution_count": 1,
   "metadata": {
    "id": "_ZXucjywS9xO"
   },
   "outputs": [],
   "source": [
    "#Importing pandas\n",
    "import pandas as pd\n"
   ]
  },
  {
   "cell_type": "code",
   "execution_count": 2,
   "metadata": {
    "id": "r0O70vR3U-1d"
   },
   "outputs": [],
   "source": [
    "df = pd.read_csv(\"diabetes.csv\") # reading csv file diabetes.csv using pandas\n"
   ]
  },
  {
   "cell_type": "markdown",
   "metadata": {},
   "source": [
    "###  Size of the dataset"
   ]
  },
  {
   "cell_type": "code",
   "execution_count": 3,
   "metadata": {},
   "outputs": [
    {
     "name": "stdout",
     "output_type": "stream",
     "text": [
      "Shape (rows, columns): (768, 9)\n",
      "['Pregnancies', 'Glucose', 'BloodPressure', 'SkinThickness', 'Insulin', 'BMI', 'DiabetesPedigreeFunction', 'Age', 'Outcome']\n"
     ]
    }
   ],
   "source": [
    "print(\"Shape (rows, columns):\", df.shape)\n",
    "print(df.columns.tolist())"
   ]
  },
  {
   "cell_type": "markdown",
   "metadata": {},
   "source": [
    "###  How many features and classes are there in the dataset? "
   ]
  },
  {
   "cell_type": "code",
   "execution_count": 4,
   "metadata": {},
   "outputs": [
    {
     "name": "stdout",
     "output_type": "stream",
     "text": [
      "   Pregnancies  Glucose  BloodPressure  SkinThickness  Insulin   BMI  \\\n",
      "0            6      148             72             35        0  33.6   \n",
      "\n",
      "   DiabetesPedigreeFunction  Age  Outcome  \n",
      "0                     0.627   50        1  \n",
      "Number of features: 8\n",
      "Number of classes: 2\n",
      "Class labels: [1 0]\n"
     ]
    }
   ],
   "source": [
    "print(df.head(1))\n",
    "features = df.columns.drop('Outcome') # dropping Outcome column \n",
    "num_features = len(features)\n",
    "print(\"Number of features:\", num_features)\n",
    "num_of_classes = df['Outcome'].nunique()\n",
    "print(\"Number of classes:\", num_of_classes)\n",
    "print(\"Class labels:\", df['Outcome'].unique())"
   ]
  },
  {
   "cell_type": "markdown",
   "metadata": {},
   "source": [
    "###  data types of the features  "
   ]
  },
  {
   "cell_type": "code",
   "execution_count": 5,
   "metadata": {},
   "outputs": [
    {
     "name": "stdout",
     "output_type": "stream",
     "text": [
      "Pregnancies                   int64\n",
      "Glucose                       int64\n",
      "BloodPressure                 int64\n",
      "SkinThickness                 int64\n",
      "Insulin                       int64\n",
      "BMI                         float64\n",
      "DiabetesPedigreeFunction    float64\n",
      "Age                           int64\n",
      "dtype: object\n"
     ]
    }
   ],
   "source": [
    "print(df.drop(columns='Outcome').dtypes)"
   ]
  },
  {
   "cell_type": "markdown",
   "metadata": {},
   "source": [
    "###  How do you think the missing values in the dataset have been handled?"
   ]
  },
  {
   "cell_type": "code",
   "execution_count": 6,
   "metadata": {},
   "outputs": [
    {
     "name": "stdout",
     "output_type": "stream",
     "text": [
      "Pregnancies: 111 zeros\n",
      "Glucose: 5 zeros\n",
      "BloodPressure: 35 zeros\n",
      "SkinThickness: 227 zeros\n",
      "Insulin: 374 zeros\n",
      "BMI: 11 zeros\n",
      "DiabetesPedigreeFunction: 0 zeros\n",
      "Age: 0 zeros\n",
      "Outcome: 500 zeros\n",
      "Pregnancies                   0\n",
      "Glucose                       5\n",
      "BloodPressure                35\n",
      "SkinThickness               227\n",
      "Insulin                     374\n",
      "BMI                          11\n",
      "DiabetesPedigreeFunction      0\n",
      "Age                           0\n",
      "Outcome                       0\n",
      "dtype: int64\n"
     ]
    }
   ],
   "source": [
    "import numpy as np\n",
    "for col in df.columns:\n",
    "    zero_count = (df[col] == 0).sum()\n",
    "    print(f\"{col}: {zero_count} zeros\")\n",
    "valid_zero_cols = ['Pregnancies', 'Outcome'] # valid column which can have 0 as value\n",
    "cols_to_replace = [col for col in df.columns if col not in valid_zero_cols]\n",
    "df[cols_to_replace] = df[cols_to_replace].replace(0, np.nan)\n",
    "print(df.isna().sum())\n",
    "#Impute Missing Values - median imputation\n",
    "df.fillna(df.median(), inplace=True)"
   ]
  },
  {
   "cell_type": "markdown",
   "metadata": {},
   "source": [
    "### Splitting the dataset and normalization"
   ]
  },
  {
   "cell_type": "code",
   "execution_count": 7,
   "metadata": {},
   "outputs": [
    {
     "name": "stdout",
     "output_type": "stream",
     "text": [
      "   Pregnancies   Glucose  BloodPressure  SkinThickness   Insulin       BMI  \\\n",
      "0    -0.851355 -1.056427      -0.826740      -1.918187 -1.203361 -0.769477   \n",
      "1     0.356576  0.144399       0.477772      -0.229874 -1.470195 -0.417498   \n",
      "\n",
      "   DiabetesPedigreeFunction       Age  \n",
      "0                  0.310794 -0.792169  \n",
      "1                 -0.116439  0.561034  \n",
      "   Pregnancies   Glucose  BloodPressure  SkinThickness   Insulin       BMI  \\\n",
      "0     0.960541  1.245157      -0.663676      -0.004766 -0.161437 -0.740145   \n",
      "1     1.866489 -1.790266       2.760669      -0.680091 -1.127122  0.447785   \n",
      "\n",
      "   DiabetesPedigreeFunction       Age  \n",
      "0                 -0.555791  0.561034  \n",
      "1                 -0.583061  1.153060  \n"
     ]
    }
   ],
   "source": [
    "from sklearn.model_selection import train_test_split\n",
    "from sklearn.preprocessing import StandardScaler\n",
    "\n",
    "\n",
    "X = df.drop(columns='Outcome')\n",
    "y = df['Outcome']\n",
    "X_train, X_test, y_train, y_test = train_test_split(\n",
    "    X, y, test_size=0.2, random_state=42, stratify=y) # splitting the dataset with 80% for training and 20% for testing.\n",
    "scaler = StandardScaler() # using stardScaler for scling the data.\n",
    "X_train_scaled = scaler.fit_transform(X_train)\n",
    "X_test_scaled = scaler.transform(X_test)\n",
    "X_train_scaled_df = pd.DataFrame(X_train_scaled, columns=X_train.columns)\n",
    "X_test_scaled_df = pd.DataFrame(X_test_scaled, columns=X_test.columns)\n",
    "print(X_train_scaled_df.head(2))\n",
    "print(X_test_scaled_df.head(2))"
   ]
  },
  {
   "cell_type": "markdown",
   "metadata": {},
   "source": [
    "### Implementing Multi-layer perceptron"
   ]
  },
  {
   "cell_type": "code",
   "execution_count": 8,
   "metadata": {},
   "outputs": [
    {
     "name": "stdout",
     "output_type": "stream",
     "text": [
      "===The MLP classifier =====\n",
      "Accuracy: 0.7402597402597403\n",
      "              precision    recall  f1-score   support\n",
      "\n",
      "           0       0.77      0.85      0.81       100\n",
      "           1       0.66      0.54      0.59        54\n",
      "\n",
      "    accuracy                           0.74       154\n",
      "   macro avg       0.72      0.69      0.70       154\n",
      "weighted avg       0.73      0.74      0.73       154\n",
      "\n"
     ]
    }
   ],
   "source": [
    "from sklearn.neural_network import MLPClassifier\n",
    "from sklearn.metrics import accuracy_score, classification_report\n",
    "\n",
    "mlp_classifier = MLPClassifier(solver='adam', max_iter=1000, random_state=42) #mlp classifier\n",
    "mlp_classifier.fit(X_train_scaled_df, y_train)\n",
    "y_pred = mlp_classifier.predict(X_test_scaled_df)\n",
    "print(\"===The MLP classifier =====\")\n",
    "print(\"Accuracy:\", accuracy_score(y_test, y_pred))\n",
    "print(classification_report(y_test, y_pred))"
   ]
  },
  {
   "cell_type": "markdown",
   "metadata": {},
   "source": [
    "### In your code, run the Multi-layer perceptron with different values to the solver parameter. What are your observations? Do all the solvers work equally good on this dataset? If not, why"
   ]
  },
  {
   "cell_type": "code",
   "execution_count": 9,
   "metadata": {},
   "outputs": [
    {
     "name": "stdout",
     "output_type": "stream",
     "text": [
      "Solver performance:\n",
      "lbfgs: 0.6948\n",
      "sgd: 0.6948\n",
      "adam: 0.7403\n"
     ]
    }
   ],
   "source": [
    "from sklearn.neural_network import MLPClassifier\n",
    "from sklearn.metrics import accuracy_score\n",
    "\n",
    "solvers = ['lbfgs', 'sgd', 'adam']\n",
    "results = {}\n",
    "\n",
    "for solver in solvers:\n",
    "    clf = MLPClassifier(solver=solver, max_iter=1000, random_state=42)\n",
    "    clf.fit(X_train_scaled_df, y_train)\n",
    "    y_pred = clf.predict(X_test_scaled_df)\n",
    "    acc = accuracy_score(y_test, y_pred)\n",
    "    results[solver] = acc\n",
    "\n",
    "print(\"Solver performance:\")\n",
    "for solver, acc in results.items():\n",
    "    print(f\"{solver}: {acc:.4f}\")\n"
   ]
  },
  {
   "cell_type": "markdown",
   "metadata": {},
   "source": [
    "### Vary the alpha parameter of the Multi-layer perceptron. What value range gives the optimal results for the classifier?"
   ]
  },
  {
   "cell_type": "code",
   "execution_count": 10,
   "metadata": {},
   "outputs": [
    {
     "name": "stdout",
     "output_type": "stream",
     "text": [
      "Alpha performance:\n",
      "alpha=0.0001: accuracy=0.7403\n",
      "alpha=0.001: accuracy=0.7403\n",
      "alpha=0.01: accuracy=0.7468\n",
      "alpha=0.1: accuracy=0.7468\n",
      "alpha=1: accuracy=0.7013\n",
      "alpha=10: accuracy=0.6948\n"
     ]
    }
   ],
   "source": [
    "# alpha values\n",
    "alphas = [0.0001, 0.001, 0.01, 0.1, 1, 10]\n",
    "results = {}\n",
    "for a in alphas:\n",
    "    clf = MLPClassifier(solver='adam', alpha=a, max_iter=1000, random_state=42)\n",
    "    clf.fit(X_train_scaled_df, y_train)\n",
    "    y_pred = clf.predict(X_test_scaled_df)\n",
    "    acc = accuracy_score(y_test, y_pred)\n",
    "    results[a] = acc\n",
    "print(\"Alpha performance:\")\n",
    "for a, acc in results.items():\n",
    "    print(f\"alpha={a}: accuracy={acc:.4f}\")\n"
   ]
  },
  {
   "cell_type": "markdown",
   "metadata": {},
   "source": [
    "### SVM and logistic regression"
   ]
  },
  {
   "cell_type": "code",
   "execution_count": 11,
   "metadata": {},
   "outputs": [
    {
     "name": "stdout",
     "output_type": "stream",
     "text": [
      "Logistic Regression training time: 0.0010 seconds\n",
      "SVM training time: 0.0097 seconds\n",
      "=== Logistic Regression ===\n",
      "Accuracy: 0.6948051948051948\n",
      "              precision    recall  f1-score   support\n",
      "\n",
      "           0       0.75      0.80      0.77       100\n",
      "           1       0.57      0.50      0.53        54\n",
      "\n",
      "    accuracy                           0.69       154\n",
      "   macro avg       0.66      0.65      0.65       154\n",
      "weighted avg       0.69      0.69      0.69       154\n",
      "\n",
      "\n",
      "=== Support Vector Machine (SVM) ===\n",
      "Accuracy: 0.7402597402597403\n",
      "              precision    recall  f1-score   support\n",
      "\n",
      "           0       0.78      0.84      0.81       100\n",
      "           1       0.65      0.56      0.60        54\n",
      "\n",
      "    accuracy                           0.74       154\n",
      "   macro avg       0.71      0.70      0.70       154\n",
      "weighted avg       0.73      0.74      0.73       154\n",
      "\n"
     ]
    }
   ],
   "source": [
    "from sklearn.linear_model import LogisticRegression\n",
    "from sklearn.svm import SVC\n",
    "from sklearn.metrics import accuracy_score, classification_report\n",
    "import time\n",
    "\n",
    "#Logistic Regression\n",
    "logreg = LogisticRegression(solver='liblinear')  # liblinear is good for small datasets\n",
    "start = time.time()\n",
    "logreg.fit(X_train_scaled, y_train)\n",
    "log_reg_time = time.time() - start\n",
    "logreg_pred = logreg.predict(X_test_scaled)\n",
    "#SVM (RBF kernel)\n",
    "svm = SVC(kernel='rbf')  \n",
    "start = time.time()\n",
    "svm.fit(X_train_scaled, y_train)\n",
    "svm_time = time.time() - start\n",
    "svm_pred = svm.predict(X_test_scaled)\n",
    "\n",
    "#time\n",
    "print(f\"Logistic Regression training time: {log_reg_time:.4f} seconds\")\n",
    "print(f\"SVM training time: {svm_time:.4f} seconds\")\n",
    "#Evaluation\n",
    "print(\"=== Logistic Regression ===\")\n",
    "print(\"Accuracy:\", accuracy_score(y_test, logreg_pred))\n",
    "print(classification_report(y_test, logreg_pred))\n",
    "\n",
    "print(\"\\n=== Support Vector Machine (SVM) ===\")\n",
    "print(\"Accuracy:\", accuracy_score(y_test, svm_pred))\n",
    "print(classification_report(y_test, svm_pred))\n"
   ]
  },
  {
   "cell_type": "markdown",
   "metadata": {},
   "source": [
    "### Plot the correlation heatmap between the features. "
   ]
  },
  {
   "cell_type": "code",
   "execution_count": 12,
   "metadata": {},
   "outputs": [
    {
     "data": {
      "image/png": "[encoded data removed]",
      "text/plain": [
       "<Figure size 1000x800 with 2 Axes>"
      ]
     },
     "metadata": {},
     "output_type": "display_data"
    }
   ],
   "source": [
    "import seaborn as sns\n",
    "import matplotlib.pyplot as plt\n",
    "\n",
    "corr_matrix = X_train_scaled_df.corr()\n",
    "plt.figure(figsize=(10, 8))\n",
    "sns.heatmap(corr_matrix, annot=True, fmt=\".2f\", cmap=\"coolwarm\", linewidths=0.5)\n",
    "plt.title(\"Correlation Heatmap of Features\", fontsize=16)\n",
    "plt.tight_layout()\n",
    "plt.show()\n"
   ]
  },
  {
   "cell_type": "markdown",
   "metadata": {},
   "source": [
    "### Implement PCA and FLD dimensionality reduction methods and see if they have any impact on the results of the logistic regression classifier. "
   ]
  },
  {
   "cell_type": "code",
   "execution_count": 13,
   "metadata": {},
   "outputs": [
    {
     "name": "stdout",
     "output_type": "stream",
     "text": [
      "Baseline Accuracy (Original): 0.7077922077922078\n",
      "PCA Accuracy: 0.6948051948051948\n",
      "LDA Accuracy: 0.7012987012987013\n"
     ]
    }
   ],
   "source": [
    "from sklearn.decomposition import PCA\n",
    "from sklearn.discriminant_analysis import LinearDiscriminantAnalysis as LDA\n",
    "from sklearn.linear_model import LogisticRegression\n",
    "from sklearn.metrics import accuracy_score, classification_report\n",
    "import time\n",
    "log_reg = LogisticRegression(max_iter=1000)\n",
    "log_reg.fit(X_train_scaled, y_train)\n",
    "y_pred_base = log_reg.predict(X_test_scaled)\n",
    "print(\"Baseline Accuracy (Original):\", accuracy_score(y_test, y_pred_base))\n",
    "# Apply PCA (retain 95% variance or choose n_components)\n",
    "pca = PCA(n_components=0.95)\n",
    "X_train_pca = pca.fit_transform(X_train_scaled)\n",
    "X_test_pca = pca.transform(X_test_scaled)\n",
    "# Training Logistic Regression on PCA transformed data\n",
    "log_reg_pca = LogisticRegression(max_iter=1000)\n",
    "log_reg_pca.fit(X_train_pca, y_train)\n",
    "y_pred_pca = log_reg_pca.predict(X_test_pca)\n",
    "print(\"PCA Accuracy:\", accuracy_score(y_test, y_pred_pca))\n",
    "# LDA can reduce to at most (number of classes - 1) components\n",
    "lda = LDA(n_components=1)\n",
    "X_train_lda = lda.fit_transform(X_train_scaled, y_train)\n",
    "X_test_lda = lda.transform(X_test_scaled)\n",
    "# Training Logistic Regression on LDA-transformed data\n",
    "log_reg_lda = LogisticRegression()\n",
    "log_reg_lda.fit(X_train_lda, y_train)\n",
    "y_pred_lda = log_reg_lda.predict(X_test_lda)\n",
    "print(\"LDA Accuracy:\", accuracy_score(y_test, y_pred_lda))\n",
    "\n"
   ]
  },
  {
   "cell_type": "markdown",
   "metadata": {},
   "source": [
    "### Apply two feature selection techniques on the dataset and use the modified dataset to train the logistic regression classifier and report results. \n",
    "### Implementation of some simple feature selection techniques."
   ]
  },
  {
   "cell_type": "code",
   "execution_count": 14,
   "metadata": {},
   "outputs": [
    {
     "name": "stdout",
     "output_type": "stream",
     "text": [
      "Original Accuracy: 0.7077922077922078\n",
      "Select K Best Accuracy: 0.7077922077922078\n",
      "Select From Model Accuracy: 0.7012987012987013\n",
      "\n",
      "=== Summary ===\n",
      "Original:\n",
      "               precision    recall  f1-score   support\n",
      "\n",
      "           0       0.75      0.82      0.78       100\n",
      "           1       0.60      0.50      0.55        54\n",
      "\n",
      "    accuracy                           0.71       154\n",
      "   macro avg       0.68      0.66      0.67       154\n",
      "weighted avg       0.70      0.71      0.70       154\n",
      "\n",
      "Select K Best:\n",
      "               precision    recall  f1-score   support\n",
      "\n",
      "           0       0.75      0.83      0.79       100\n",
      "           1       0.60      0.48      0.54        54\n",
      "\n",
      "    accuracy                           0.71       154\n",
      "   macro avg       0.68      0.66      0.66       154\n",
      "weighted avg       0.70      0.71      0.70       154\n",
      "\n",
      "Select From Model:\n",
      "               precision    recall  f1-score   support\n",
      "\n",
      "           0       0.75      0.81      0.78       100\n",
      "           1       0.59      0.50      0.54        54\n",
      "\n",
      "    accuracy                           0.70       154\n",
      "   macro avg       0.67      0.66      0.66       154\n",
      "weighted avg       0.69      0.70      0.70       154\n",
      "\n"
     ]
    }
   ],
   "source": [
    "from sklearn.feature_selection import SelectKBest, chi2, SelectFromModel\n",
    "from sklearn.linear_model import LogisticRegression\n",
    "from sklearn.metrics import accuracy_score, classification_report\n",
    "from sklearn.preprocessing import MinMaxScaler\n",
    "log_reg = LogisticRegression(max_iter=1000)\n",
    "log_reg.fit(X_train_scaled, y_train)\n",
    "y_pred_orig = log_reg.predict(X_test_scaled)\n",
    "print(\"Original Accuracy:\", accuracy_score(y_test, y_pred_orig))\n",
    "# Scaling using MinMax for chi2\n",
    "scaler_minmax = MinMaxScaler()\n",
    "X_train_mm = scaler_minmax.fit_transform(X_train)\n",
    "X_test_mm = scaler_minmax.transform(X_test)\n",
    "# Selecting top 5 features using chi2\n",
    "selector_kbest = SelectKBest(score_func=chi2, k=5)\n",
    "X_train_kbest = selector_kbest.fit_transform(X_train_mm, y_train)\n",
    "X_test_kbest = selector_kbest.transform(X_test_mm)\n",
    "# Training logistic regression\n",
    "log_kbest = LogisticRegression(max_iter=1000)\n",
    "log_kbest.fit(X_train_kbest, y_train)\n",
    "y_pred_kbest = log_kbest.predict(X_test_kbest)\n",
    "print(\"Select K Best Accuracy:\", accuracy_score(y_test, y_pred_kbest))\n",
    "# Using L1 penalty (Lasso) for feature selection\n",
    "log_l1 = LogisticRegression(penalty='l1', solver='liblinear', max_iter=1000, C=0.1)\n",
    "selector_model = SelectFromModel(log_l1)\n",
    "selector_model.fit(X_train_scaled, y_train)\n",
    "X_train_model = selector_model.transform(X_train_scaled)\n",
    "X_test_model = selector_model.transform(X_test_scaled)\n",
    "# Training logistic regression on selected features\n",
    "log_model = LogisticRegression(max_iter=1000)\n",
    "log_model.fit(X_train_model, y_train)\n",
    "y_pred_model = log_model.predict(X_test_model)\n",
    "print(\"Select From Model Accuracy:\", accuracy_score(y_test, y_pred_model))\n",
    "\n",
    "print(\"\\n=== Summary ===\")\n",
    "print(\"Original:\\n\", classification_report(y_test, y_pred_orig))\n",
    "print(\"Select K Best:\\n\", classification_report(y_test, y_pred_kbest))\n",
    "print(\"Select From Model:\\n\", classification_report(y_test, y_pred_model))\n"
   ]
  },
  {
   "cell_type": "markdown",
   "metadata": {},
   "source": [
    "### A colleague suggested that you need to identify whether one classifier is significantly better than the other.\n",
    "### With the results you obtained above, do you think you can conduct a significance test? Briefly explain."
   ]
  },
  {
   "cell_type": "code",
   "execution_count": 19,
   "metadata": {},
   "outputs": [
    {
     "name": "stdout",
     "output_type": "stream",
     "text": [
      "\n",
      "=== Paired t-tests (Accuracy Comparison) ===\n",
      "SVM vs MLP: t = 0.7647, p = 0.4640\n",
      "LogReg vs SVM: t = 1.9295, p = 0.0857\n",
      "LogReg vs MLP: t = 2.2960, p = 0.0473\n",
      "\n",
      "=== Mean Accuracies ===\n",
      "Logistic Regression: 0.7668\n",
      "SVM:                 0.7474\n",
      "MLP:                 0.7356\n"
     ]
    }
   ],
   "source": [
    "from sklearn.model_selection import StratifiedKFold\n",
    "from sklearn.linear_model import LogisticRegression\n",
    "from sklearn.svm import SVC\n",
    "from sklearn.neural_network import MLPClassifier\n",
    "from sklearn.preprocessing import StandardScaler\n",
    "from sklearn.metrics import accuracy_score\n",
    "from scipy.stats import ttest_rel\n",
    "import numpy as np\n",
    "import warnings\n",
    "warnings.filterwarnings('ignore')\n",
    "X = df.drop(columns='Outcome')\n",
    "y = df['Outcome']\n",
    "# Initialize models\n",
    "logreg = LogisticRegression(solver='liblinear')\n",
    "svm = SVC(kernel='rbf')\n",
    "mlp = MLPClassifier(solver='adam', max_iter=1000, random_state=42)\n",
    "# Cross-validation setup\n",
    "k = 10\n",
    "skf = StratifiedKFold(n_splits=k, shuffle=True, random_state=42)\n",
    "# To store scores\n",
    "logreg_scores = []\n",
    "svm_scores = []\n",
    "mlp_scores = []\n",
    "for train_index, test_index in skf.split(X, y):\n",
    "    X_train, X_test = X.iloc[train_index], X.iloc[test_index]\n",
    "    y_train, y_test = y.iloc[train_index], y.iloc[test_index]\n",
    "        # Scale features\n",
    "    scaler = StandardScaler()\n",
    "    X_train_scaled = scaler.fit_transform(X_train)\n",
    "    X_test_scaled = scaler.transform(X_test)\n",
    "        # Train and evaluate each model\n",
    "    logreg.fit(X_train_scaled, y_train)\n",
    "    svm.fit(X_train_scaled, y_train)\n",
    "    mlp.fit(X_train_scaled, y_train)\n",
    "    logreg_scores.append(accuracy_score(y_test, logreg.predict(X_test_scaled)))\n",
    "    svm_scores.append(accuracy_score(y_test, svm.predict(X_test_scaled)))\n",
    "    mlp_scores.append(accuracy_score(y_test, mlp.predict(X_test_scaled)))\n",
    "# Convert to NumPy arrays for testing\n",
    "logreg_scores = np.array(logreg_scores)\n",
    "svm_scores = np.array(svm_scores)\n",
    "mlp_scores = np.array(mlp_scores)\n",
    "# Paired t-tests\n",
    "print(\"\\n=== Paired t-tests (Accuracy Comparison) ===\")\n",
    "t_stat_svm_mlp, p_val_svm_mlp = ttest_rel(svm_scores, mlp_scores)\n",
    "print(f\"SVM vs MLP: t = {t_stat_svm_mlp:.4f}, p = {p_val_svm_mlp:.4f}\")\n",
    "t_stat_logreg_svm, p_val_logreg_svm = ttest_rel(logreg_scores, svm_scores)\n",
    "print(f\"LogReg vs SVM: t = {t_stat_logreg_svm:.4f}, p = {p_val_logreg_svm:.4f}\")\n",
    "t_stat_logreg_mlp, p_val_logreg_mlp = ttest_rel(logreg_scores, mlp_scores)\n",
    "print(f\"LogReg vs MLP: t = {t_stat_logreg_mlp:.4f}, p = {p_val_logreg_mlp:.4f}\")\n",
    "# Optional: print mean accuracies\n",
    "print(\"\\n=== Mean Accuracies ===\")\n",
    "print(f\"Logistic Regression: {logreg_scores.mean():.4f}\")\n",
    "print(f\"SVM:                 {svm_scores.mean():.4f}\")\n",
    "print(f\"MLP:                 {mlp_scores.mean():.4f}\")\n"
   ]
  },
  {
   "cell_type": "markdown",
   "metadata": {},
   "source": [
    "### MLP classifier code generated by Claude.ai"
   ]
  },
  {
   "cell_type": "code",
   "execution_count": 3,
   "metadata": {},
   "outputs": [
    {
     "name": "stdout",
     "output_type": "stream",
     "text": [
      "Accuracy: 0.7662337662337663\n",
      "              precision    recall  f1-score   support\n",
      "\n",
      "           0       0.80      0.88      0.84       157\n",
      "           1       0.67      0.53      0.59        74\n",
      "\n",
      "    accuracy                           0.77       231\n",
      "   macro avg       0.74      0.70      0.71       231\n",
      "weighted avg       0.76      0.77      0.76       231\n",
      "\n"
     ]
    }
   ],
   "source": [
    "import pandas as pd\n",
    "from sklearn.model_selection import train_test_split\n",
    "from sklearn.preprocessing import StandardScaler\n",
    "from sklearn.neural_network import MLPClassifier\n",
    "from sklearn.metrics import accuracy_score, classification_report\n",
    "\n",
    "# Load data from CSV\n",
    "df = pd.read_csv('diabetes.csv')\n",
    "X = df.iloc[:, :-1]\n",
    "y = df.iloc[:, -1]\n",
    "\n",
    "# Split dataset\n",
    "X_train, X_test, y_train, y_test = train_test_split(\n",
    "    X, y, test_size=0.3, random_state=0)\n",
    "\n",
    "# Scale features\n",
    "scaler = StandardScaler()\n",
    "X_train_scaled = scaler.fit_transform(X_train)\n",
    "X_test_scaled = scaler.transform(X_test)\n",
    "\n",
    "# Initialize and train MLP\n",
    "mlp = MLPClassifier(hidden_layer_sizes=(100,),\n",
    "                    activation='tanh',\n",
    "                    solver='sgd',\n",
    "                    learning_rate='adaptive',\n",
    "                    max_iter=500,\n",
    "                    random_state=0)\n",
    "mlp.fit(X_train_scaled, y_train)\n",
    "\n",
    "# Predict and evaluate\n",
    "y_pred = mlp.predict(X_test_scaled)\n",
    "print(\"Accuracy:\", accuracy_score(y_test, y_pred))\n",
    "print(classification_report(y_test, y_pred))\n"
   ]
  }
 ],
 "metadata": {
  "accelerator": "GPU",
  "colab": {
   "gpuType": "T4",
   "provenance": []
  },
  "kernelspec": {
   "display_name": "Python 3 (ipykernel)",
   "language": "python",
   "name": "python3"
  },
  "language_info": {
   "codemirror_mode": {
    "name": "ipython",
    "version": 3
   },
   "file_extension": ".py",
   "mimetype": "text/x-python",
   "name": "python",
   "nbconvert_exporter": "python",
   "pygments_lexer": "ipython3",
   "version": "3.12.7"
  }
 },
 "nbformat": 4,
 "nbformat_minor": 4
}
